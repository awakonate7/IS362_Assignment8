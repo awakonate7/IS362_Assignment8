{
 "cells": [
  {
   "cell_type": "code",
   "execution_count": null,
   "id": "7db7968b",
   "metadata": {},
   "outputs": [],
   "source": [
    "import pandas as pd\n",
    "import numpy as np\n",
    "from matplotlib import pyplot as plt\n",
    "auto_mpg=pd.read_csv('auto-mpg.csv', \n",
    "            sep = '\\s+', names = ['MPG','Cylinders','Displacement','Horsepower','Weight','Acceleration','Model Year','Origin','Car Name'])\n",
    "mpgcopy=auto_mpg.copy()\n",
    "mpgcopy.head() #check to see if it did what i wanted it to do"
   ]
  },
  {
   "cell_type": "code",
   "execution_count": null,
   "id": "b61b8aed",
   "metadata": {},
   "outputs": [],
   "source": [
    "\tMPG\tCylinders\tDisplacement\tHorsepower\tWeight\tAcceleration\tModel Year\tOrigin\tCar Name\n",
    "0\t18.0\t8\t307.0\t130.0\t3504.0\t12.0\t70\t1\tchevrolet chevelle malibu\n",
    "1\t15.0\t8\t350.0\t165.0\t3693.0\t11.5\t70\t1\tbuick skylark 320\n",
    "2\t18.0\t8\t318.0\t150.0\t3436.0\t11.0\t70\t1\tplymouth satellite\n",
    "3\t16.0\t8\t304.0\t150.0\t3433.0\t12.0\t70\t1\tamc rebel sst\n",
    "4\t17.0\t8\t302.0\t140.0\t3449.0\t10.5\t70\t1\tford torino"
   ]
  },
  {
   "cell_type": "markdown",
   "id": "8c25d5f3",
   "metadata": {},
   "source": [
    "I'm replacing all the \"?\" in the Horse Power column, and do it inplace on the copy."
   ]
  },
  {
   "cell_type": "code",
   "execution_count": null,
   "id": "9320b524",
   "metadata": {},
   "outputs": [],
   "source": [
    "mpgcopy['Horsepower'].replace('?', np.NaN, inplace=True)\n",
    "#mpgcopy #check if \"?\" changed to NaNs"
   ]
  },
  {
   "cell_type": "code",
   "execution_count": null,
   "id": "395a730d",
   "metadata": {},
   "outputs": [],
   "source": [
    "Next replace 1 --> USA, 2 --> Asia, and 3 --> Europe. Need to set int to str. Took a few tries, but still went through; can be seen in the first 25 rows."
   ]
  },
  {
   "cell_type": "code",
   "execution_count": null,
   "id": "4910c7e4",
   "metadata": {},
   "outputs": [],
   "source": [
    "#mpgcopy['Origin'] = mpgcopy['Origin'].replace(1, 'USA')                #nope\n",
    "#mpgcopy\n",
    "derp=mpgcopy.Origin = mpgcopy.Origin.astype(str) \n",
    "mpgcopy.Origin = mpgcopy.Origin.replace({\"1\": \"USA\",\n",
    "                                        \"2\": \"Asia\",\n",
    "                                        \"3\": \"Europe\"})\n",
    "mpgcopy[15:35]                                                        #ok this one worked"
   ]
  },
  {
   "cell_type": "code",
   "execution_count": null,
   "id": "14b22774",
   "metadata": {},
   "outputs": [],
   "source": [
    "\tMPG\tCylinders\tDisplacement\tHorsepower\tWeight\tAcceleration\tModel Year\tOrigin\tCar Name\n",
    "15\t22.0\t6\t198.0\t95.00\t2833.0\t15.5\t70\tUSA\tplymouth duster\n",
    "16\t18.0\t6\t199.0\t97.00\t2774.0\t15.5\t70\tUSA\tamc hornet\n",
    "17\t21.0\t6\t200.0\t85.00\t2587.0\t16.0\t70\tUSA\tford maverick\n",
    "18\t27.0\t4\t97.0\t88.00\t2130.0\t14.5\t70\tEurope\tdatsun pl510\n",
    "19\t26.0\t4\t97.0\t46.00\t1835.0\t20.5\t70\tAsia\tvolkswagen 1131 deluxe sedan\n",
    "20\t25.0\t4\t110.0\t87.00\t2672.0\t17.5\t70\tAsia\tpeugeot 504\n",
    "21\t24.0\t4\t107.0\t90.00\t2430.0\t14.5\t70\tAsia\taudi 100 ls\n",
    "22\t25.0\t4\t104.0\t95.00\t2375.0\t17.5\t70\tAsia\tsaab 99e\n",
    "23\t26.0\t4\t121.0\t113.0\t2234.0\t12.5\t70\tAsia\tbmw 2002\n",
    "24\t21.0\t6\t199.0\t90.00\t2648.0\t15.0\t70\tUSA\tamc gremlin\n",
    "25\t10.0\t8\t360.0\t215.0\t4615.0\t14.0\t70\tUSA\tford f250\n",
    "26\t10.0\t8\t307.0\t200.0\t4376.0\t15.0\t70\tUSA\tchevy c20\n",
    "27\t11.0\t8\t318.0\t210.0\t4382.0\t13.5\t70\tUSA\tdodge d200\n",
    "28\t9.0\t8\t304.0\t193.0\t4732.0\t18.5\t70\tUSA\thi 1200d\n",
    "29\t27.0\t4\t97.0\t88.00\t2130.0\t14.5\t71\tEurope\tdatsun pl510\n",
    "30\t28.0\t4\t140.0\t90.00\t2264.0\t15.5\t71\tUSA\tchevrolet vega 2300\n",
    "31\t25.0\t4\t113.0\t95.00\t2228.0\t14.0\t71\tEurope\ttoyota corona\n",
    "32\t25.0\t4\t98.0\tNaN\t2046.0\t19.0\t71\tUSA\tford pinto\n",
    "33\t19.0\t6\t232.0\t100.0\t2634.0\t13.0\t71\tUSA\tamc gremlin\n",
    "34\t16.0\t6\t225.0\t105.0\t3439.0\t15.5\t71\tUSA\tplymouth satellite custom"
   ]
  },
  {
   "cell_type": "markdown",
   "id": "5f024de6",
   "metadata": {},
   "source": [
    "Creating bar chart that shows distribution of cylinders (col 2)."
   ]
  },
  {
   "cell_type": "code",
   "execution_count": null,
   "id": "c2531b28",
   "metadata": {},
   "outputs": [],
   "source": [
    "#accellist = mpgcopy['Acceleration'].tolist()\n",
    "#mpgcopy.Cylinders.plot(kind='bar')\n",
    "#plt.show()\n",
    "#mpgcopy.Cylinders.T.plot.bar(rot=0)\n",
    "#mpgcopy.Cylinders.plot.bar(); plt.axhline(0, color='k')\n",
    "from collections import Counter                                          #I can use this, right? It's convenient, so..\n",
    "cylinlist = mpgcopy['Cylinders'].tolist()\n",
    "cylindict = Counter(cylinlist)\n",
    "plt.bar(range(len(cylindict)), list(cylindict.values()), align='center')\n",
    "plt.xticks(range(len(cylindict)), list(cylindict.keys()))\n",
    "plt.show()"
   ]
  },
  {
   "cell_type": "code",
   "execution_count": null,
   "id": "6610d3d2",
   "metadata": {},
   "outputs": [],
   "source": [
    "Creating scatterplot of horsepower vs weight. To clear up the NaN outliers, we use a forwardfill."
   ]
  },
  {
   "cell_type": "code",
   "execution_count": null,
   "id": "0525d6d2",
   "metadata": {},
   "outputs": [],
   "source": [
    "#this is prettier\n",
    "mpgcopy.sort_values(by='Horsepower')\n",
    "mpgcopy.Horsepower = mpgcopy.Horsepower.astype(float)\n",
    "plt.scatter(mpgcopy['Horsepower'], mpgcopy['Weight'])\n",
    "#fig=plt.figure(figsize=(200, 500), dpi= 80, facecolor='w', edgecolor='k')\n",
    "plt.show()"
   ]
  }
 ],
 "metadata": {
  "kernelspec": {
   "display_name": "Python 3 (ipykernel)",
   "language": "python",
   "name": "python3"
  },
  "language_info": {
   "codemirror_mode": {
    "name": "ipython",
    "version": 3
   },
   "file_extension": ".py",
   "mimetype": "text/x-python",
   "name": "python",
   "nbconvert_exporter": "python",
   "pygments_lexer": "ipython3",
   "version": "3.9.7"
  }
 },
 "nbformat": 4,
 "nbformat_minor": 5
}
